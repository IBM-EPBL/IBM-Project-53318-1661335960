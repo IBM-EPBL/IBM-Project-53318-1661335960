{
 "cells": [
  {
   "cell_type": "markdown",
   "metadata": {},
   "source": [
    "1.DOWNLOAD THE DATASET\n"
   ]
  },
  {
   "cell_type": "markdown",
   "metadata": {},
   "source": [
    "The dataset is successfully downloaded."
   ]
  },
  {
   "cell_type": "markdown",
   "metadata": {},
   "source": [
    "2.IMAGE AUGMENTATION\n"
   ]
  },
  {
   "cell_type": "code",
   "execution_count": 1,
   "metadata": {},
   "outputs": [],
   "source": [
    "from tensorflow.keras.preprocessing.image import ImageDataGenerator\n",
    "from matplotlib.pyplot import imread,imshow,subplots,show\n",
    "import numpy as np\n",
    "import os\n",
    "from PIL import Image\n",
    "from skimage import io"
   ]
  },
  {
   "cell_type": "code",
   "execution_count": 2,
   "metadata": {},
   "outputs": [],
   "source": [
    "train_data=ImageDataGenerator(rescale=1./255,zoom_range=0.2,horizontal_flip=True)"
   ]
  },
  {
   "cell_type": "code",
   "execution_count": 3,
   "metadata": {},
   "outputs": [],
   "source": [
    "test_data=ImageDataGenerator(rescale=1./255)"
   ]
  },
  {
   "cell_type": "code",
   "execution_count": 7,
   "metadata": {},
   "outputs": [
    {
     "name": "stdout",
     "output_type": "stream",
     "text": [
      "Found 4317 images belonging to 1 classes.\n"
     ]
    }
   ],
   "source": [
    "xtrain=train_data.flow_from_directory('flowers/',\n",
    "                                      target_size=(64,64),\n",
    "                                      class_mode='categorical',\n",
    "                                      batch_size=100)"
   ]
  },
  {
   "cell_type": "code",
   "execution_count": 8,
   "metadata": {},
   "outputs": [
    {
     "name": "stdout",
     "output_type": "stream",
     "text": [
      "Found 4317 images belonging to 1 classes.\n"
     ]
    }
   ],
   "source": [
    "xtest=test_data.flow_from_directory('flowers/',\n",
    "                                         target_size=(64,64),\n",
    "                                         class_mode='categorical',\n",
    "                                         batch_size=100)"
   ]
  },
  {
   "cell_type": "markdown",
   "metadata": {},
   "source": [
    "3.CREATE MODEL\n"
   ]
  },
  {
   "cell_type": "code",
   "execution_count": 11,
   "metadata": {},
   "outputs": [],
   "source": [
    "from keras.models import Sequential\n",
    "from keras.layers import Conv2D\n",
    "from keras.layers import MaxPooling2D\n",
    "from keras.layers import Flatten\n",
    "from keras.layers import Dense\n",
    "from keras.preprocessing.image import ImageDataGenerator"
   ]
  },
  {
   "cell_type": "markdown",
   "metadata": {},
   "source": [
    "4.Add Layers (Convolution,MaxPooling,Flatten,Dense-(HiddenLayers),Output)"
   ]
  },
  {
   "cell_type": "code",
   "execution_count": 12,
   "metadata": {},
   "outputs": [],
   "source": [
    "model=Sequential()\n",
    "model.add(Conv2D(32,(3,3),input_shape=(64,64,3),activation='relu'))\n",
    "model.add(MaxPooling2D(pool_size=(2,2)))\n",
    "model.add(Flatten())\n",
    "model.add(Dense(units=300,activation='relu'))\n",
    "model.add(Dense(units=150,activation='sigmoid'))\n",
    "model.add(Dense(5,activation='softmax'))\n"
   ]
  },
  {
   "cell_type": "markdown",
   "metadata": {},
   "source": [
    "5.COMPILE THE MODEL"
   ]
  },
  {
   "cell_type": "code",
   "execution_count": 13,
   "metadata": {},
   "outputs": [],
   "source": [
    "model.compile(optimizer='adam',loss='binary_crossentropy',metrics=['accuracy'])"
   ]
  },
  {
   "cell_type": "markdown",
   "metadata": {},
   "source": [
    "6.FIT THE MODEL"
   ]
  },
  {
   "cell_type": "code",
   "execution_count": 14,
   "metadata": {},
   "outputs": [
    {
     "name": "stderr",
     "output_type": "stream",
     "text": [
      "C:\\Users\\haris\\AppData\\Local\\Temp\\ipykernel_12704\\3454595895.py:1: UserWarning: `Model.fit_generator` is deprecated and will be removed in a future version. Please use `Model.fit`, which supports generators.\n",
      "  model.fit_generator(xtrain,steps_per_epoch=len(xtrain),epochs=30,validation_data=xtest,validation_steps=len(xtest))\n"
     ]
    },
    {
     "name": "stdout",
     "output_type": "stream",
     "text": [
      "Epoch 1/30\n",
      "44/44 [==============================] - 65s 1s/step - loss: 0.0463 - accuracy: 0.0000e+00 - val_loss: 0.0107 - val_accuracy: 0.0000e+00\n",
      "Epoch 2/30\n",
      "44/44 [==============================] - 35s 803ms/step - loss: 0.0074 - accuracy: 0.0000e+00 - val_loss: 0.0051 - val_accuracy: 0.0000e+00\n",
      "Epoch 3/30\n",
      "44/44 [==============================] - 35s 795ms/step - loss: 0.0041 - accuracy: 0.0000e+00 - val_loss: 0.0032 - val_accuracy: 0.0000e+00\n",
      "Epoch 4/30\n",
      "44/44 [==============================] - 34s 775ms/step - loss: 0.0027 - accuracy: 0.0000e+00 - val_loss: 0.0022 - val_accuracy: 0.0000e+00\n",
      "Epoch 5/30\n",
      "44/44 [==============================] - 34s 768ms/step - loss: 0.0019 - accuracy: 0.0000e+00 - val_loss: 0.0016 - val_accuracy: 0.0000e+00\n",
      "Epoch 6/30\n",
      "44/44 [==============================] - 34s 773ms/step - loss: 0.0014 - accuracy: 0.0000e+00 - val_loss: 0.0013 - val_accuracy: 0.0000e+00\n",
      "Epoch 7/30\n",
      "44/44 [==============================] - 34s 777ms/step - loss: 0.0011 - accuracy: 0.0000e+00 - val_loss: 0.0010 - val_accuracy: 0.0000e+00\n",
      "Epoch 8/30\n",
      "44/44 [==============================] - 34s 768ms/step - loss: 9.3808e-04 - accuracy: 0.0000e+00 - val_loss: 8.5211e-04 - val_accuracy: 0.0000e+00\n",
      "Epoch 9/30\n",
      "44/44 [==============================] - 34s 776ms/step - loss: 7.8300e-04 - accuracy: 0.0000e+00 - val_loss: 7.1875e-04 - val_accuracy: 0.0000e+00\n",
      "Epoch 10/30\n",
      "44/44 [==============================] - 34s 765ms/step - loss: 6.6714e-04 - accuracy: 0.0000e+00 - val_loss: 6.1601e-04 - val_accuracy: 0.0000e+00\n",
      "Epoch 11/30\n",
      "44/44 [==============================] - 33s 762ms/step - loss: 5.7459e-04 - accuracy: 0.0000e+00 - val_loss: 5.3493e-04 - val_accuracy: 0.0000e+00\n",
      "Epoch 12/30\n",
      "44/44 [==============================] - 33s 762ms/step - loss: 5.0229e-04 - accuracy: 0.0000e+00 - val_loss: 4.6963e-04 - val_accuracy: 0.0000e+00\n",
      "Epoch 13/30\n",
      "44/44 [==============================] - 33s 761ms/step - loss: 4.4216e-04 - accuracy: 0.0000e+00 - val_loss: 4.1615e-04 - val_accuracy: 0.0000e+00\n",
      "Epoch 14/30\n",
      "44/44 [==============================] - 34s 766ms/step - loss: 3.9382e-04 - accuracy: 0.0000e+00 - val_loss: 3.7171e-04 - val_accuracy: 0.0000e+00\n",
      "Epoch 15/30\n",
      "44/44 [==============================] - 33s 760ms/step - loss: 3.5262e-04 - accuracy: 0.0000e+00 - val_loss: 3.3432e-04 - val_accuracy: 0.0000e+00\n",
      "Epoch 16/30\n",
      "44/44 [==============================] - 34s 770ms/step - loss: 3.1853e-04 - accuracy: 0.0000e+00 - val_loss: 3.0251e-04 - val_accuracy: 0.0000e+00\n",
      "Epoch 17/30\n",
      "44/44 [==============================] - 35s 790ms/step - loss: 2.8890e-04 - accuracy: 0.0000e+00 - val_loss: 2.7520e-04 - val_accuracy: 0.0000e+00\n",
      "Epoch 18/30\n",
      "44/44 [==============================] - 34s 769ms/step - loss: 2.6322e-04 - accuracy: 0.0000e+00 - val_loss: 2.5154e-04 - val_accuracy: 0.0000e+00\n",
      "Epoch 19/30\n",
      "44/44 [==============================] - 33s 762ms/step - loss: 2.4111e-04 - accuracy: 0.0000e+00 - val_loss: 2.3090e-04 - val_accuracy: 0.0000e+00\n",
      "Epoch 20/30\n",
      "44/44 [==============================] - 34s 768ms/step - loss: 2.2174e-04 - accuracy: 0.0000e+00 - val_loss: 2.1277e-04 - val_accuracy: 0.0000e+00\n",
      "Epoch 21/30\n",
      "44/44 [==============================] - 34s 765ms/step - loss: 2.0491e-04 - accuracy: 0.0000e+00 - val_loss: 1.9674e-04 - val_accuracy: 0.0000e+00\n",
      "Epoch 22/30\n",
      "44/44 [==============================] - 33s 764ms/step - loss: 1.8973e-04 - accuracy: 0.0000e+00 - val_loss: 1.8249e-04 - val_accuracy: 0.0000e+00\n",
      "Epoch 23/30\n",
      "44/44 [==============================] - 33s 763ms/step - loss: 1.7616e-04 - accuracy: 0.0000e+00 - val_loss: 1.6976e-04 - val_accuracy: 0.0000e+00\n",
      "Epoch 24/30\n",
      "44/44 [==============================] - 33s 762ms/step - loss: 1.6412e-04 - accuracy: 0.0000e+00 - val_loss: 1.5833e-04 - val_accuracy: 0.0000e+00\n",
      "Epoch 25/30\n",
      "44/44 [==============================] - 33s 763ms/step - loss: 1.5315e-04 - accuracy: 0.0000e+00 - val_loss: 1.4803e-04 - val_accuracy: 0.0000e+00\n",
      "Epoch 26/30\n",
      "44/44 [==============================] - 33s 760ms/step - loss: 1.4343e-04 - accuracy: 0.0000e+00 - val_loss: 1.3870e-04 - val_accuracy: 0.0000e+00\n",
      "Epoch 27/30\n",
      "44/44 [==============================] - 34s 769ms/step - loss: 1.3445e-04 - accuracy: 0.0000e+00 - val_loss: 1.3024e-04 - val_accuracy: 0.0000e+00\n",
      "Epoch 28/30\n",
      "44/44 [==============================] - 33s 763ms/step - loss: 1.2638e-04 - accuracy: 0.0000e+00 - val_loss: 1.2252e-04 - val_accuracy: 0.0000e+00\n",
      "Epoch 29/30\n",
      "44/44 [==============================] - 33s 760ms/step - loss: 1.1908e-04 - accuracy: 0.0000e+00 - val_loss: 1.1547e-04 - val_accuracy: 0.0000e+00\n",
      "Epoch 30/30\n",
      "44/44 [==============================] - 33s 762ms/step - loss: 1.1232e-04 - accuracy: 0.0000e+00 - val_loss: 1.0900e-04 - val_accuracy: 0.0000e+00\n"
     ]
    },
    {
     "data": {
      "text/plain": [
       "<keras.callbacks.History at 0x2d96a41c8e0>"
      ]
     },
     "execution_count": 14,
     "metadata": {},
     "output_type": "execute_result"
    }
   ],
   "source": [
    "model.fit_generator(xtrain,steps_per_epoch=len(xtrain),epochs=30,validation_data=xtest,validation_steps=len(xtest))\n"
   ]
  }
 ],
 "metadata": {
  "kernelspec": {
   "display_name": "Python 3.10.3 64-bit",
   "language": "python",
   "name": "python3"
  },
  "language_info": {
   "codemirror_mode": {
    "name": "ipython",
    "version": 3
   },
   "file_extension": ".py",
   "mimetype": "text/x-python",
   "name": "python",
   "nbconvert_exporter": "python",
   "pygments_lexer": "ipython3",
   "version": "3.10.3"
  },
  "orig_nbformat": 4,
  "vscode": {
   "interpreter": {
    "hash": "865d8b2eb28e274047ba64063dfb6a2aabf0dfec4905d304d7a76618dae6fdd4"
   }
  }
 },
 "nbformat": 4,
 "nbformat_minor": 2
}
